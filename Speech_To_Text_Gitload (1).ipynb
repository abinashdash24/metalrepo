{
 "cells": [
  {
   "cell_type": "code",
   "execution_count": 41,
   "id": "e1c813ec",
   "metadata": {},
   "outputs": [],
   "source": [
    "import boto3\n",
    "import pandas as pd\n",
    "import time\n",
    "import os\n",
    "import json\n",
    "import urllib\n",
    "from datetime import date\n",
    "import seaborn as sns\n",
    "import numpy as np"
   ]
  },
  {
   "cell_type": "code",
   "execution_count": 2,
   "id": "7ced1207",
   "metadata": {},
   "outputs": [],
   "source": [
    "aws_access_key_id = '------------------------'\n",
    "aws_secret_access_key= '--------------------------'\n",
    "region_name='ap-southeast-2'"
   ]
  },
  {
   "cell_type": "code",
   "execution_count": 3,
   "id": "b0e1bb0a",
   "metadata": {},
   "outputs": [],
   "source": [
    "session = boto3.session.Session(aws_access_key_id=aws_access_key_id,aws_secret_access_key=aws_secret_access_key,\n",
    "                               region_name=region_name)"
   ]
  },
  {
   "cell_type": "code",
   "execution_count": 1,
   "id": "3bf7c9dd",
   "metadata": {},
   "outputs": [],
   "source": [
    "# s3 = boto3.client('s3')"
   ]
  },
  {
   "cell_type": "code",
   "execution_count": 2,
   "id": "7c57aa17",
   "metadata": {},
   "outputs": [],
   "source": [
    "# s3.list_buckets()['Buckets']"
   ]
  },
  {
   "cell_type": "code",
   "execution_count": 3,
   "id": "cbf54287",
   "metadata": {},
   "outputs": [],
   "source": [
    "# s3.list_buckets()['Buckets'][1]"
   ]
  },
  {
   "cell_type": "code",
   "execution_count": 4,
   "id": "74ee1ed3",
   "metadata": {},
   "outputs": [],
   "source": [
    "s3_resource = boto3.resource('s3')\n",
    "\n",
    "audio_list = []\n",
    "job_list = []\n",
    "\n",
    "for object in s3_resource.Bucket('inputbucketname').objects.all():\n",
    "    if object.key[-3:] == 'mp3':\n",
    "        print(object.key[0:len(object.key)-4])\n",
    "        audio_list.append(object.key)\n",
    "        job_list.append(object.key[0:len(object.key)-4])\n",
    "        \n",
    "df_audio_files = pd.DataFrame({'file_name':audio_list,\n",
    "                              'job_name':job_list})   \n",
    "df_audio_files"
   ]
  },
  {
   "cell_type": "markdown",
   "id": "ca69cb61",
   "metadata": {},
   "source": [
    "## Transcribe Job"
   ]
  },
  {
   "cell_type": "code",
   "execution_count": 39,
   "id": "1e8ad833",
   "metadata": {},
   "outputs": [
    {
     "name": "stdout",
     "output_type": "stream",
     "text": [
      "Waiting for samples_mp3_ted_speakers_BillGates_sample-1. Current status is IN_PROGRESS.\n",
      "Waiting for samples_mp3_ted_speakers_BillGates_sample-1. Current status is IN_PROGRESS.\n",
      "Job samples_mp3_ted_speakers_BillGates_sample-1 is COMPLETED.\n",
      "========== below is output of speech-to-text ========================\n",
      "He said the same phrase 30 times.\n",
      "=====================================================================\n",
      "Waiting for samples_mp3_ted_speakers_BillGates_sample-2. Current status is IN_PROGRESS.\n",
      "Waiting for samples_mp3_ted_speakers_BillGates_sample-2. Current status is IN_PROGRESS.\n",
      "Job samples_mp3_ted_speakers_BillGates_sample-2 is COMPLETED.\n",
      "========== below is output of speech-to-text ========================\n",
      "Pluck the bright rose without leaves.\n",
      "=====================================================================\n",
      "Waiting for samples_mp3_ted_speakers_BillGates_sample-3. Current status is IN_PROGRESS.\n",
      "Waiting for samples_mp3_ted_speakers_BillGates_sample-3. Current status is IN_PROGRESS.\n",
      "Job samples_mp3_ted_speakers_BillGates_sample-3 is COMPLETED.\n",
      "========== below is output of speech-to-text ========================\n",
      "two Plus 7 is less than 10.\n",
      "=====================================================================\n",
      "Waiting for samples_mp3_ted_speakers_BillGates_sample. Current status is IN_PROGRESS.\n",
      "Waiting for samples_mp3_ted_speakers_BillGates_sample. Current status is IN_PROGRESS.\n",
      "Job samples_mp3_ted_speakers_BillGates_sample is COMPLETED.\n",
      "========== below is output of speech-to-text ========================\n",
      "Cramp is no small danger on a swim.\n",
      "=====================================================================\n",
      "Waiting for transcribe-sample.5fc2109bb28268d10fbc677e64b7e59256783d3c. Current status is IN_PROGRESS.\n",
      "Waiting for transcribe-sample.5fc2109bb28268d10fbc677e64b7e59256783d3c. Current status is IN_PROGRESS.\n",
      "Waiting for transcribe-sample.5fc2109bb28268d10fbc677e64b7e59256783d3c. Current status is IN_PROGRESS.\n",
      "Waiting for transcribe-sample.5fc2109bb28268d10fbc677e64b7e59256783d3c. Current status is IN_PROGRESS.\n",
      "Job transcribe-sample.5fc2109bb28268d10fbc677e64b7e59256783d3c is COMPLETED.\n",
      "========== below is output of speech-to-text ========================\n",
      "Machine learning is employed in a range of computing tasks where designing and programming explicit algorithms with good performance is difficult or infeasible. Example applications include email filtering, detection of network intruders and computer vision. Machine learning is closely related to computational statistics, which also focuses on predictions making through the use of computer. It has strong ties to mathematical optimization, which delivers methods, theory and application domains to the field.\n",
      "=====================================================================\n",
      "processing time = 122.5149085521698\n"
     ]
    }
   ],
   "source": [
    "transcribe_client = boto3.client('transcribe')\n",
    "\n",
    "st_time = time.time()\n",
    "\n",
    "\n",
    "def transcribe_file(job_name, file_uri, transcribe_client):\n",
    "    transcribe_client.start_transcription_job(\n",
    "        TranscriptionJobName=job_name,\n",
    "        Media={'MediaFileUri': file_uri},\n",
    "        MediaFormat='mp3',\n",
    "        LanguageCode='en-US'\n",
    "    )\n",
    "\n",
    "    max_tries = 60\n",
    "    while max_tries > 0:\n",
    "        max_tries -= 1\n",
    "        job = transcribe_client.get_transcription_job(TranscriptionJobName=job_name)\n",
    "        job_status = job['TranscriptionJob']['TranscriptionJobStatus']\n",
    "        if job_status in ['COMPLETED', 'FAILED']:\n",
    "            print(f\"Job {job_name} is {job_status}.\")\n",
    "            if job_status == 'COMPLETED':\n",
    "                response = urllib.request.urlopen(job['TranscriptionJob']['Transcript']['TranscriptFileUri'])\n",
    "                data = json.loads(response.read())\n",
    "                text = data['results']['transcripts'][0]['transcript']\n",
    "                print(\"========== below is output of speech-to-text ========================\")\n",
    "                print(text)\n",
    "                print(\"=====================================================================\")\n",
    "            break\n",
    "        else:\n",
    "            print(f\"Waiting for {job_name}. Current status is {job_status}.\")\n",
    "        time.sleep(10)\n",
    "\n",
    "\n",
    "# def main():\n",
    "for i in range(df_audio_files.shape[0]):\n",
    "    file_uri = 's3://inputbucketname/'+df_audio_files.iloc[i,0]\n",
    "    job_name = df_audio_files.iloc[i,1]\n",
    "    transcribe_file(job_name, file_uri, transcribe_client)\n",
    "#     return\n",
    "\n",
    "\n",
    "# if __name__ == '__main__':\n",
    "#     main()\n",
    "\n",
    "    \n",
    "print('processing time = %s' %(time.time()-st_time))    "
   ]
  }
 ],
 "metadata": {
  "kernelspec": {
   "display_name": "conda_python3",
   "language": "python",
   "name": "conda_python3"
  },
  "language_info": {
   "codemirror_mode": {
    "name": "ipython",
    "version": 3
   },
   "file_extension": ".py",
   "mimetype": "text/x-python",
   "name": "python",
   "nbconvert_exporter": "python",
   "pygments_lexer": "ipython3",
   "version": "3.6.13"
  }
 },
 "nbformat": 4,
 "nbformat_minor": 5
}
